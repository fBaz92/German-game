{
 "cells": [
  {
   "cell_type": "code",
   "execution_count": null,
   "metadata": {
    "vscode": {
     "languageId": "plaintext"
    }
   },
   "outputs": [],
   "source": [
    "from src.game_manager import GameManager\n",
    "\n",
    "\n",
    "def main():\n",
    "    \"\"\"Funzione principale\"\"\"\n",
    "    try:\n",
    "        game = GameManager()\n",
    "        game.start()\n",
    "    except KeyboardInterrupt:\n",
    "        print(\"\\\\n\\\\n👋 Gioco interrotto. Auf Wiedersehen!\")\n",
    "    except Exception as e:\n",
    "        print(f\"\\\\n❌ Errore imprevisto: {e}\")\n",
    "\n",
    "\n",
    "if __name__ == \"__main__\":\n",
    "    main()\n"
   ]
  }
 ],
 "metadata": {
  "language_info": {
   "name": "python"
  }
 },
 "nbformat": 4,
 "nbformat_minor": 2
}
